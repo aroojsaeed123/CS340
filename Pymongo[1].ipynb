#Python code
from pymongo import MongoClient
from bson.Objectid import ObjectId

class AnimalShelter(object):
     """CRUD operations for Animal collection in MongoDB"""
     
     def _init_(self,username,passwd)
     self.client = MongoClient('mongodb://localhost:38745')
     self.database = self.client['project']
     
#complete create method to implement the C in CRUD
    def create(self,data):
    if data is not None:
        self.database.animals.insert(data)      #data should be dictionary
        return True
    else:
        print('Nothing to save, because data parameter is empty)
        return False
        
#create method to implement the R in CRUD
    def readAll(self,data):
    if data is not None:
        return self.database.animals.find(data,{"_id": False})
    else:
        print('Nothing to read, because data parameter is empty')
        return False